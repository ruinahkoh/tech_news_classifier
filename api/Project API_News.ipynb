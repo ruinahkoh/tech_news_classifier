{
 "cells": [
  {
   "cell_type": "markdown",
   "id": "91d34a76",
   "metadata": {},
   "source": [
    "#### pip install newsapi-python"
   ]
  },
  {
   "cell_type": "code",
   "execution_count": 13,
   "id": "be3c8ab7",
   "metadata": {
    "scrolled": true
   },
   "outputs": [
    {
     "ename": "ModuleNotFoundError",
     "evalue": "No module named 'newspaper'",
     "output_type": "error",
     "traceback": [
      "\u001b[0;31m---------------------------------------------------------------------------\u001b[0m",
      "\u001b[0;31mModuleNotFoundError\u001b[0m                       Traceback (most recent call last)",
      "\u001b[0;32m/var/folders/h5/q_hpffn12_589xblfw6_4j1m0000gn/T/ipykernel_75958/3457858733.py\u001b[0m in \u001b[0;36m<module>\u001b[0;34m\u001b[0m\n\u001b[1;32m      1\u001b[0m \u001b[0;31m# -*- coding: utf-8 -*-\u001b[0m\u001b[0;34m\u001b[0m\u001b[0;34m\u001b[0m\u001b[0m\n\u001b[1;32m      2\u001b[0m \u001b[0;32mfrom\u001b[0m \u001b[0mdatetime\u001b[0m \u001b[0;32mimport\u001b[0m \u001b[0mdatetime\u001b[0m\u001b[0;34m,\u001b[0m \u001b[0mdate\u001b[0m\u001b[0;34m,\u001b[0m \u001b[0mtimedelta\u001b[0m\u001b[0;34m\u001b[0m\u001b[0;34m\u001b[0m\u001b[0m\n\u001b[0;32m----> 3\u001b[0;31m \u001b[0;32mfrom\u001b[0m \u001b[0mnewspaper\u001b[0m \u001b[0;32mimport\u001b[0m \u001b[0mArticle\u001b[0m\u001b[0;34m\u001b[0m\u001b[0;34m\u001b[0m\u001b[0m\n\u001b[0m\u001b[1;32m      4\u001b[0m \u001b[0;32mfrom\u001b[0m \u001b[0mconfig\u001b[0m \u001b[0;32mimport\u001b[0m \u001b[0mAPI_KEY\u001b[0m\u001b[0;34m,\u001b[0m \u001b[0mDYNAMODB_ARTICLES_TABLE\u001b[0m\u001b[0;34m,\u001b[0m\u001b[0mBUCKET_NAME\u001b[0m\u001b[0;34m\u001b[0m\u001b[0;34m\u001b[0m\u001b[0m\n\u001b[1;32m      5\u001b[0m \u001b[0;32mfrom\u001b[0m \u001b[0mnewsapi\u001b[0m  \u001b[0;32mimport\u001b[0m \u001b[0mNewsApiClient\u001b[0m\u001b[0;34m\u001b[0m\u001b[0;34m\u001b[0m\u001b[0m\n",
      "\u001b[0;31mModuleNotFoundError\u001b[0m: No module named 'newspaper'"
     ]
    }
   ],
   "source": [
    "# -*- coding: utf-8 -*-\n",
    "from datetime import datetime, date, timedelta\n",
    "from newspaper import Article\n",
    "from config import API_KEY, DYNAMODB_ARTICLES_TABLE,BUCKET_NAME\n",
    "from newsapi  import NewsApiClient\n",
    "import zipfile\n",
    "import pandas as pd\n"
   ]
  },
  {
   "cell_type": "code",
   "execution_count": 11,
   "id": "4b5269b0",
   "metadata": {},
   "outputs": [],
   "source": [
    "\n",
    "\n",
    "\n",
    "def get_key_word(url):\n",
    "        key_words = []\n",
    "        article = Article(url)\n",
    "        article.download()\n",
    "        # article.html\n",
    "        article.parse()\n",
    "        article.nlp()\n",
    "\n",
    "        return article.text, article.summary\n",
    "def get_news_articles(topic,date_from, date_to):\n",
    "    # Init\n",
    "    newsapi = NewsApiClient(api_key=API_KEY)\n",
    "    \n",
    "    # get everything using topic for query key\n",
    "    articles= newsapi.get_everything(q=topic,language='en',from_param=date_from,\n",
    "                                      to=date_to)\n",
    "    print(articles)\n",
    "    art=[]\n",
    "    for i in range(len(articles['articles'])):\n",
    "        title = articles['articles'][i]['title']\n",
    "        url = articles['articles'][i]['url']\n",
    "        blurp = articles['articles'][i]['description']\n",
    "        imgurl = articles['articles'][i]['urlToImage']\n",
    "        article_date = articles['articles'][i]['publishedAt']\n",
    "        article_date = article_date.split('T')[0]\n",
    "        source = articles['articles'][i]['source']['name'].lower()\n",
    "\n",
    "        try:\n",
    "            text, blurp1 = get_key_word(url)\n",
    "        except:\n",
    "            text = articles['articles'][i]['content']\n",
    "\n",
    "        try:\n",
    "            article_date = datetime.strptime(article_date, \"%Y-%m-%d\")\n",
    "            article_date = datetime.strftime(article_date, \"%d/%m/%Y\")\n",
    "        except IndexError:\n",
    "            article_date = date.today().replace(day=1)\n",
    "            article_date = datetime.strftime(article_date, \"%d/%m/%Y\")\n",
    "        art.append(\n",
    "        {\n",
    "            'title': title,\n",
    "            'imgurl': imgurl,\n",
    "            'date': article_date,\n",
    "            'blurp': blurp,\n",
    "            'url': url,\n",
    "            'text': text,\n",
    "            'category': topic,\n",
    "            'source': source\n",
    "        })\n",
    "    return art\n",
    "\n",
    "\n",
    "\n"
   ]
  },
  {
   "cell_type": "code",
   "execution_count": 7,
   "id": "99e0fd08",
   "metadata": {},
   "outputs": [],
   "source": [
    "### set a defined list of topics\n",
    "# '\n",
    "topics = ['artificial intelligence', 'cybersecurity', 'blockchain', 'cloud computing','electric vehicles']"
   ]
  },
  {
   "cell_type": "code",
   "execution_count": 3,
   "id": "4c9978a9",
   "metadata": {},
   "outputs": [
    {
     "data": {
      "text/plain": [
       "['2022-11-15']"
      ]
     },
     "execution_count": 3,
     "metadata": {},
     "output_type": "execute_result"
    }
   ],
   "source": [
    "dates =[] \n",
    "date_from = '2022-11-08'\n",
    "\n",
    "for day in [7]:\n",
    "    date_to = datetime.strptime(date_from, '%Y-%m-%d') + timedelta(days=day)\n",
    "    dates.append(datetime.strftime(date_to,'%Y-%m-%d'))\n",
    "dates"
   ]
  },
  {
   "cell_type": "code",
   "execution_count": 4,
   "id": "951858ba",
   "metadata": {},
   "outputs": [],
   "source": [
    "date_to = '2022-11-15'\n",
    "# articles2 = get_news_articles('ai',date_from, date_to)"
   ]
  },
  {
   "cell_type": "code",
   "execution_count": 12,
   "id": "4bf8d027",
   "metadata": {},
   "outputs": [
    {
     "ename": "NameError",
     "evalue": "name 'NewsApiClient' is not defined",
     "output_type": "error",
     "traceback": [
      "\u001b[0;31m---------------------------------------------------------------------------\u001b[0m",
      "\u001b[0;31mNameError\u001b[0m                                 Traceback (most recent call last)",
      "\u001b[0;32m/var/folders/h5/q_hpffn12_589xblfw6_4j1m0000gn/T/ipykernel_75958/3543095579.py\u001b[0m in \u001b[0;36m<module>\u001b[0;34m\u001b[0m\n\u001b[1;32m      1\u001b[0m \u001b[0marticles\u001b[0m \u001b[0;34m=\u001b[0m\u001b[0;34m[\u001b[0m\u001b[0;34m]\u001b[0m\u001b[0;34m\u001b[0m\u001b[0;34m\u001b[0m\u001b[0m\n\u001b[1;32m      2\u001b[0m \u001b[0;32mfor\u001b[0m \u001b[0mtopic\u001b[0m \u001b[0;32min\u001b[0m \u001b[0mtopics\u001b[0m\u001b[0;34m:\u001b[0m\u001b[0;34m\u001b[0m\u001b[0;34m\u001b[0m\u001b[0m\n\u001b[0;32m----> 3\u001b[0;31m     \u001b[0mart\u001b[0m \u001b[0;34m=\u001b[0m \u001b[0mget_news_articles\u001b[0m\u001b[0;34m(\u001b[0m\u001b[0mtopic\u001b[0m\u001b[0;34m,\u001b[0m\u001b[0mdate_from\u001b[0m\u001b[0;34m,\u001b[0m \u001b[0mdate_to\u001b[0m\u001b[0;34m)\u001b[0m\u001b[0;34m\u001b[0m\u001b[0;34m\u001b[0m\u001b[0m\n\u001b[0m\u001b[1;32m      4\u001b[0m     \u001b[0;32mfor\u001b[0m \u001b[0ma\u001b[0m \u001b[0;32min\u001b[0m \u001b[0mart\u001b[0m\u001b[0;34m:\u001b[0m\u001b[0;34m\u001b[0m\u001b[0;34m\u001b[0m\u001b[0m\n\u001b[1;32m      5\u001b[0m         \u001b[0marticles\u001b[0m\u001b[0;34m.\u001b[0m\u001b[0mappend\u001b[0m\u001b[0;34m(\u001b[0m\u001b[0ma\u001b[0m\u001b[0;34m)\u001b[0m\u001b[0;34m\u001b[0m\u001b[0;34m\u001b[0m\u001b[0m\n",
      "\u001b[0;32m/var/folders/h5/q_hpffn12_589xblfw6_4j1m0000gn/T/ipykernel_75958/3400883269.py\u001b[0m in \u001b[0;36mget_news_articles\u001b[0;34m(topic, date_from, date_to)\u001b[0m\n\u001b[1;32m     10\u001b[0m \u001b[0;32mdef\u001b[0m \u001b[0mget_news_articles\u001b[0m\u001b[0;34m(\u001b[0m\u001b[0mtopic\u001b[0m\u001b[0;34m,\u001b[0m\u001b[0mdate_from\u001b[0m\u001b[0;34m,\u001b[0m \u001b[0mdate_to\u001b[0m\u001b[0;34m)\u001b[0m\u001b[0;34m:\u001b[0m\u001b[0;34m\u001b[0m\u001b[0;34m\u001b[0m\u001b[0m\n\u001b[1;32m     11\u001b[0m     \u001b[0;31m# Init\u001b[0m\u001b[0;34m\u001b[0m\u001b[0;34m\u001b[0m\u001b[0m\n\u001b[0;32m---> 12\u001b[0;31m     \u001b[0mnewsapi\u001b[0m \u001b[0;34m=\u001b[0m \u001b[0mNewsApiClient\u001b[0m\u001b[0;34m(\u001b[0m\u001b[0mapi_key\u001b[0m\u001b[0;34m=\u001b[0m\u001b[0mAPI_KEY\u001b[0m\u001b[0;34m)\u001b[0m\u001b[0;34m\u001b[0m\u001b[0;34m\u001b[0m\u001b[0m\n\u001b[0m\u001b[1;32m     13\u001b[0m \u001b[0;34m\u001b[0m\u001b[0m\n\u001b[1;32m     14\u001b[0m     \u001b[0;31m# get everything using topic for query key\u001b[0m\u001b[0;34m\u001b[0m\u001b[0;34m\u001b[0m\u001b[0m\n",
      "\u001b[0;31mNameError\u001b[0m: name 'NewsApiClient' is not defined"
     ]
    }
   ],
   "source": [
    "articles =[]\n",
    "for topic in topics:\n",
    "    art = get_news_articles(topic,date_from, date_to)\n",
    "    for a in art:\n",
    "        articles.append(a)\n",
    "        \n",
    " "
   ]
  },
  {
   "cell_type": "code",
   "execution_count": 8,
   "id": "0a7d36ac",
   "metadata": {},
   "outputs": [
    {
     "ename": "NameError",
     "evalue": "name 'get_news_articles' is not defined",
     "output_type": "error",
     "traceback": [
      "\u001b[0;31m---------------------------------------------------------------------------\u001b[0m",
      "\u001b[0;31mNameError\u001b[0m                                 Traceback (most recent call last)",
      "\u001b[0;32m/var/folders/h5/q_hpffn12_589xblfw6_4j1m0000gn/T/ipykernel_75958/1267239265.py\u001b[0m in \u001b[0;36m<module>\u001b[0;34m\u001b[0m\n\u001b[1;32m      3\u001b[0m     \u001b[0;32mfor\u001b[0m \u001b[0md\u001b[0m \u001b[0;32min\u001b[0m \u001b[0mdates\u001b[0m\u001b[0;34m:\u001b[0m\u001b[0;34m\u001b[0m\u001b[0;34m\u001b[0m\u001b[0m\n\u001b[1;32m      4\u001b[0m         \u001b[0mdate_to\u001b[0m \u001b[0;34m=\u001b[0m \u001b[0md\u001b[0m\u001b[0;34m\u001b[0m\u001b[0;34m\u001b[0m\u001b[0m\n\u001b[0;32m----> 5\u001b[0;31m         \u001b[0mart\u001b[0m \u001b[0;34m=\u001b[0m \u001b[0mget_news_articles\u001b[0m\u001b[0;34m(\u001b[0m\u001b[0mtopic\u001b[0m\u001b[0;34m,\u001b[0m\u001b[0mdate_from\u001b[0m\u001b[0;34m,\u001b[0m \u001b[0mdate_to\u001b[0m\u001b[0;34m)\u001b[0m\u001b[0;34m\u001b[0m\u001b[0;34m\u001b[0m\u001b[0m\n\u001b[0m\u001b[1;32m      6\u001b[0m         \u001b[0;32mfor\u001b[0m \u001b[0ma\u001b[0m \u001b[0;32min\u001b[0m \u001b[0mart\u001b[0m\u001b[0;34m:\u001b[0m\u001b[0;34m\u001b[0m\u001b[0;34m\u001b[0m\u001b[0m\n\u001b[1;32m      7\u001b[0m             \u001b[0marticles\u001b[0m\u001b[0;34m.\u001b[0m\u001b[0mappend\u001b[0m\u001b[0;34m(\u001b[0m\u001b[0ma\u001b[0m\u001b[0;34m)\u001b[0m\u001b[0;34m\u001b[0m\u001b[0;34m\u001b[0m\u001b[0m\n",
      "\u001b[0;31mNameError\u001b[0m: name 'get_news_articles' is not defined"
     ]
    }
   ],
   "source": [
    "articles =[]\n",
    "for topic in topics:\n",
    "    for d in dates:\n",
    "        date_to = d\n",
    "        art = get_news_articles(topic,date_from, date_to)\n",
    "        for a in art:\n",
    "            articles.append(a)\n",
    "        date_from = date_to\n",
    " "
   ]
  },
  {
   "cell_type": "code",
   "execution_count": 14,
   "id": "d7b850ba",
   "metadata": {},
   "outputs": [
    {
     "data": {
      "text/plain": [
       "100"
      ]
     },
     "execution_count": 14,
     "metadata": {},
     "output_type": "execute_result"
    }
   ],
   "source": [
    "data = pd.DataFrame.from_dict(articles, orient='columns')\n",
    "\n",
    "len(data)"
   ]
  },
  {
   "cell_type": "code",
   "execution_count": 15,
   "id": "aad38dbe",
   "metadata": {},
   "outputs": [],
   "source": [
    "data.to_csv('/Users/ruinah/Downloads/project/test_set2.csv')"
   ]
  },
  {
   "cell_type": "code",
   "execution_count": null,
   "id": "98029606",
   "metadata": {},
   "outputs": [],
   "source": []
  }
 ],
 "metadata": {
  "kernelspec": {
   "display_name": "Python 3 (ipykernel)",
   "language": "python",
   "name": "python3"
  },
  "language_info": {
   "codemirror_mode": {
    "name": "ipython",
    "version": 3
   },
   "file_extension": ".py",
   "mimetype": "text/x-python",
   "name": "python",
   "nbconvert_exporter": "python",
   "pygments_lexer": "ipython3",
   "version": "3.9.7"
  }
 },
 "nbformat": 4,
 "nbformat_minor": 5
}
